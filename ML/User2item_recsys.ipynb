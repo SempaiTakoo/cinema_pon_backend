{
  "nbformat": 4,
  "nbformat_minor": 0,
  "metadata": {
    "colab": {
      "provenance": []
    },
    "kernelspec": {
      "name": "python3",
      "display_name": "Python 3"
    },
    "language_info": {
      "name": "python"
    }
  },
  "cells": [
    {
      "cell_type": "markdown",
      "source": [
        "# Качаем библиотеку"
      ],
      "metadata": {
        "id": "dmkDYNvbamxQ"
      }
    },
    {
      "cell_type": "code",
      "source": [
        "!pip install surprise"
      ],
      "metadata": {
        "colab": {
          "base_uri": "https://localhost:8080/"
        },
        "id": "U2CkimU07OdU",
        "outputId": "0a2044b9-00ea-46e0-b407-961707d59800"
      },
      "execution_count": null,
      "outputs": [
        {
          "output_type": "stream",
          "name": "stdout",
          "text": [
            "Requirement already satisfied: surprise in /usr/local/lib/python3.10/dist-packages (0.1)\n",
            "Requirement already satisfied: scikit-surprise in /usr/local/lib/python3.10/dist-packages (from surprise) (1.1.4)\n",
            "Requirement already satisfied: joblib>=1.2.0 in /usr/local/lib/python3.10/dist-packages (from scikit-surprise->surprise) (1.4.2)\n",
            "Requirement already satisfied: numpy>=1.19.5 in /usr/local/lib/python3.10/dist-packages (from scikit-surprise->surprise) (1.26.4)\n",
            "Requirement already satisfied: scipy>=1.6.0 in /usr/local/lib/python3.10/dist-packages (from scikit-surprise->surprise) (1.13.1)\n"
          ]
        }
      ]
    },
    {
      "cell_type": "markdown",
      "source": [
        "# Импортируем библиотеки"
      ],
      "metadata": {
        "id": "bEEVpN0Caxni"
      }
    },
    {
      "cell_type": "code",
      "source": [
        "import pandas as pd\n",
        "from surprise import Dataset, Reader, KNNBasic\n",
        "from surprise.model_selection import train_test_split\n",
        "from collections import defaultdict\n",
        "import numpy as np"
      ],
      "metadata": {
        "id": "q4Owme852tN8"
      },
      "execution_count": null,
      "outputs": []
    },
    {
      "cell_type": "markdown",
      "source": [
        "# Загружаем данные"
      ],
      "metadata": {
        "id": "vKxAEvvKat5r"
      }
    },
    {
      "cell_type": "code",
      "source": [
        "!git clone https://github.com/divensambhwani/MovieLens-100K_Recommender-System.git  > /dev/null 2>&1\n",
        "%cd MovieLens-100K_Recommender-System"
      ],
      "metadata": {
        "colab": {
          "base_uri": "https://localhost:8080/"
        },
        "id": "NPqnDZRj2bUJ",
        "outputId": "7cc2eabb-0b18-4938-db8e-13f5f7d30991"
      },
      "execution_count": null,
      "outputs": [
        {
          "output_type": "stream",
          "name": "stdout",
          "text": [
            "/content/MovieLens-100K_Recommender-System/MovieLens-100K_Recommender-System\n"
          ]
        }
      ]
    },
    {
      "cell_type": "code",
      "source": [
        "ratings = pd.read_csv('data/ratings.csv')\n",
        "ratings.head()"
      ],
      "metadata": {
        "id": "XQidu2v50ZHl",
        "colab": {
          "base_uri": "https://localhost:8080/",
          "height": 206
        },
        "outputId": "8c5d2b13-a5b6-4a99-fa22-1bc53e88ce6d"
      },
      "execution_count": null,
      "outputs": [
        {
          "output_type": "execute_result",
          "data": {
            "text/plain": [
              "   userId  movieId  rating  timestamp\n",
              "0       1        1     4.0  964982703\n",
              "1       1        3     4.0  964981247\n",
              "2       1        6     4.0  964982224\n",
              "3       1       47     5.0  964983815\n",
              "4       1       50     5.0  964982931"
            ],
            "text/html": [
              "\n",
              "  <div id=\"df-bc9e82ae-6727-4f58-9a10-a368725ae8c9\" class=\"colab-df-container\">\n",
              "    <div>\n",
              "<style scoped>\n",
              "    .dataframe tbody tr th:only-of-type {\n",
              "        vertical-align: middle;\n",
              "    }\n",
              "\n",
              "    .dataframe tbody tr th {\n",
              "        vertical-align: top;\n",
              "    }\n",
              "\n",
              "    .dataframe thead th {\n",
              "        text-align: right;\n",
              "    }\n",
              "</style>\n",
              "<table border=\"1\" class=\"dataframe\">\n",
              "  <thead>\n",
              "    <tr style=\"text-align: right;\">\n",
              "      <th></th>\n",
              "      <th>userId</th>\n",
              "      <th>movieId</th>\n",
              "      <th>rating</th>\n",
              "      <th>timestamp</th>\n",
              "    </tr>\n",
              "  </thead>\n",
              "  <tbody>\n",
              "    <tr>\n",
              "      <th>0</th>\n",
              "      <td>1</td>\n",
              "      <td>1</td>\n",
              "      <td>4.0</td>\n",
              "      <td>964982703</td>\n",
              "    </tr>\n",
              "    <tr>\n",
              "      <th>1</th>\n",
              "      <td>1</td>\n",
              "      <td>3</td>\n",
              "      <td>4.0</td>\n",
              "      <td>964981247</td>\n",
              "    </tr>\n",
              "    <tr>\n",
              "      <th>2</th>\n",
              "      <td>1</td>\n",
              "      <td>6</td>\n",
              "      <td>4.0</td>\n",
              "      <td>964982224</td>\n",
              "    </tr>\n",
              "    <tr>\n",
              "      <th>3</th>\n",
              "      <td>1</td>\n",
              "      <td>47</td>\n",
              "      <td>5.0</td>\n",
              "      <td>964983815</td>\n",
              "    </tr>\n",
              "    <tr>\n",
              "      <th>4</th>\n",
              "      <td>1</td>\n",
              "      <td>50</td>\n",
              "      <td>5.0</td>\n",
              "      <td>964982931</td>\n",
              "    </tr>\n",
              "  </tbody>\n",
              "</table>\n",
              "</div>\n",
              "    <div class=\"colab-df-buttons\">\n",
              "\n",
              "  <div class=\"colab-df-container\">\n",
              "    <button class=\"colab-df-convert\" onclick=\"convertToInteractive('df-bc9e82ae-6727-4f58-9a10-a368725ae8c9')\"\n",
              "            title=\"Convert this dataframe to an interactive table.\"\n",
              "            style=\"display:none;\">\n",
              "\n",
              "  <svg xmlns=\"http://www.w3.org/2000/svg\" height=\"24px\" viewBox=\"0 -960 960 960\">\n",
              "    <path d=\"M120-120v-720h720v720H120Zm60-500h600v-160H180v160Zm220 220h160v-160H400v160Zm0 220h160v-160H400v160ZM180-400h160v-160H180v160Zm440 0h160v-160H620v160ZM180-180h160v-160H180v160Zm440 0h160v-160H620v160Z\"/>\n",
              "  </svg>\n",
              "    </button>\n",
              "\n",
              "  <style>\n",
              "    .colab-df-container {\n",
              "      display:flex;\n",
              "      gap: 12px;\n",
              "    }\n",
              "\n",
              "    .colab-df-convert {\n",
              "      background-color: #E8F0FE;\n",
              "      border: none;\n",
              "      border-radius: 50%;\n",
              "      cursor: pointer;\n",
              "      display: none;\n",
              "      fill: #1967D2;\n",
              "      height: 32px;\n",
              "      padding: 0 0 0 0;\n",
              "      width: 32px;\n",
              "    }\n",
              "\n",
              "    .colab-df-convert:hover {\n",
              "      background-color: #E2EBFA;\n",
              "      box-shadow: 0px 1px 2px rgba(60, 64, 67, 0.3), 0px 1px 3px 1px rgba(60, 64, 67, 0.15);\n",
              "      fill: #174EA6;\n",
              "    }\n",
              "\n",
              "    .colab-df-buttons div {\n",
              "      margin-bottom: 4px;\n",
              "    }\n",
              "\n",
              "    [theme=dark] .colab-df-convert {\n",
              "      background-color: #3B4455;\n",
              "      fill: #D2E3FC;\n",
              "    }\n",
              "\n",
              "    [theme=dark] .colab-df-convert:hover {\n",
              "      background-color: #434B5C;\n",
              "      box-shadow: 0px 1px 3px 1px rgba(0, 0, 0, 0.15);\n",
              "      filter: drop-shadow(0px 1px 2px rgba(0, 0, 0, 0.3));\n",
              "      fill: #FFFFFF;\n",
              "    }\n",
              "  </style>\n",
              "\n",
              "    <script>\n",
              "      const buttonEl =\n",
              "        document.querySelector('#df-bc9e82ae-6727-4f58-9a10-a368725ae8c9 button.colab-df-convert');\n",
              "      buttonEl.style.display =\n",
              "        google.colab.kernel.accessAllowed ? 'block' : 'none';\n",
              "\n",
              "      async function convertToInteractive(key) {\n",
              "        const element = document.querySelector('#df-bc9e82ae-6727-4f58-9a10-a368725ae8c9');\n",
              "        const dataTable =\n",
              "          await google.colab.kernel.invokeFunction('convertToInteractive',\n",
              "                                                    [key], {});\n",
              "        if (!dataTable) return;\n",
              "\n",
              "        const docLinkHtml = 'Like what you see? Visit the ' +\n",
              "          '<a target=\"_blank\" href=https://colab.research.google.com/notebooks/data_table.ipynb>data table notebook</a>'\n",
              "          + ' to learn more about interactive tables.';\n",
              "        element.innerHTML = '';\n",
              "        dataTable['output_type'] = 'display_data';\n",
              "        await google.colab.output.renderOutput(dataTable, element);\n",
              "        const docLink = document.createElement('div');\n",
              "        docLink.innerHTML = docLinkHtml;\n",
              "        element.appendChild(docLink);\n",
              "      }\n",
              "    </script>\n",
              "  </div>\n",
              "\n",
              "\n",
              "<div id=\"df-3a01d772-f7c9-4273-936e-bb86bf2959ef\">\n",
              "  <button class=\"colab-df-quickchart\" onclick=\"quickchart('df-3a01d772-f7c9-4273-936e-bb86bf2959ef')\"\n",
              "            title=\"Suggest charts\"\n",
              "            style=\"display:none;\">\n",
              "\n",
              "<svg xmlns=\"http://www.w3.org/2000/svg\" height=\"24px\"viewBox=\"0 0 24 24\"\n",
              "     width=\"24px\">\n",
              "    <g>\n",
              "        <path d=\"M19 3H5c-1.1 0-2 .9-2 2v14c0 1.1.9 2 2 2h14c1.1 0 2-.9 2-2V5c0-1.1-.9-2-2-2zM9 17H7v-7h2v7zm4 0h-2V7h2v10zm4 0h-2v-4h2v4z\"/>\n",
              "    </g>\n",
              "</svg>\n",
              "  </button>\n",
              "\n",
              "<style>\n",
              "  .colab-df-quickchart {\n",
              "      --bg-color: #E8F0FE;\n",
              "      --fill-color: #1967D2;\n",
              "      --hover-bg-color: #E2EBFA;\n",
              "      --hover-fill-color: #174EA6;\n",
              "      --disabled-fill-color: #AAA;\n",
              "      --disabled-bg-color: #DDD;\n",
              "  }\n",
              "\n",
              "  [theme=dark] .colab-df-quickchart {\n",
              "      --bg-color: #3B4455;\n",
              "      --fill-color: #D2E3FC;\n",
              "      --hover-bg-color: #434B5C;\n",
              "      --hover-fill-color: #FFFFFF;\n",
              "      --disabled-bg-color: #3B4455;\n",
              "      --disabled-fill-color: #666;\n",
              "  }\n",
              "\n",
              "  .colab-df-quickchart {\n",
              "    background-color: var(--bg-color);\n",
              "    border: none;\n",
              "    border-radius: 50%;\n",
              "    cursor: pointer;\n",
              "    display: none;\n",
              "    fill: var(--fill-color);\n",
              "    height: 32px;\n",
              "    padding: 0;\n",
              "    width: 32px;\n",
              "  }\n",
              "\n",
              "  .colab-df-quickchart:hover {\n",
              "    background-color: var(--hover-bg-color);\n",
              "    box-shadow: 0 1px 2px rgba(60, 64, 67, 0.3), 0 1px 3px 1px rgba(60, 64, 67, 0.15);\n",
              "    fill: var(--button-hover-fill-color);\n",
              "  }\n",
              "\n",
              "  .colab-df-quickchart-complete:disabled,\n",
              "  .colab-df-quickchart-complete:disabled:hover {\n",
              "    background-color: var(--disabled-bg-color);\n",
              "    fill: var(--disabled-fill-color);\n",
              "    box-shadow: none;\n",
              "  }\n",
              "\n",
              "  .colab-df-spinner {\n",
              "    border: 2px solid var(--fill-color);\n",
              "    border-color: transparent;\n",
              "    border-bottom-color: var(--fill-color);\n",
              "    animation:\n",
              "      spin 1s steps(1) infinite;\n",
              "  }\n",
              "\n",
              "  @keyframes spin {\n",
              "    0% {\n",
              "      border-color: transparent;\n",
              "      border-bottom-color: var(--fill-color);\n",
              "      border-left-color: var(--fill-color);\n",
              "    }\n",
              "    20% {\n",
              "      border-color: transparent;\n",
              "      border-left-color: var(--fill-color);\n",
              "      border-top-color: var(--fill-color);\n",
              "    }\n",
              "    30% {\n",
              "      border-color: transparent;\n",
              "      border-left-color: var(--fill-color);\n",
              "      border-top-color: var(--fill-color);\n",
              "      border-right-color: var(--fill-color);\n",
              "    }\n",
              "    40% {\n",
              "      border-color: transparent;\n",
              "      border-right-color: var(--fill-color);\n",
              "      border-top-color: var(--fill-color);\n",
              "    }\n",
              "    60% {\n",
              "      border-color: transparent;\n",
              "      border-right-color: var(--fill-color);\n",
              "    }\n",
              "    80% {\n",
              "      border-color: transparent;\n",
              "      border-right-color: var(--fill-color);\n",
              "      border-bottom-color: var(--fill-color);\n",
              "    }\n",
              "    90% {\n",
              "      border-color: transparent;\n",
              "      border-bottom-color: var(--fill-color);\n",
              "    }\n",
              "  }\n",
              "</style>\n",
              "\n",
              "  <script>\n",
              "    async function quickchart(key) {\n",
              "      const quickchartButtonEl =\n",
              "        document.querySelector('#' + key + ' button');\n",
              "      quickchartButtonEl.disabled = true;  // To prevent multiple clicks.\n",
              "      quickchartButtonEl.classList.add('colab-df-spinner');\n",
              "      try {\n",
              "        const charts = await google.colab.kernel.invokeFunction(\n",
              "            'suggestCharts', [key], {});\n",
              "      } catch (error) {\n",
              "        console.error('Error during call to suggestCharts:', error);\n",
              "      }\n",
              "      quickchartButtonEl.classList.remove('colab-df-spinner');\n",
              "      quickchartButtonEl.classList.add('colab-df-quickchart-complete');\n",
              "    }\n",
              "    (() => {\n",
              "      let quickchartButtonEl =\n",
              "        document.querySelector('#df-3a01d772-f7c9-4273-936e-bb86bf2959ef button');\n",
              "      quickchartButtonEl.style.display =\n",
              "        google.colab.kernel.accessAllowed ? 'block' : 'none';\n",
              "    })();\n",
              "  </script>\n",
              "</div>\n",
              "\n",
              "    </div>\n",
              "  </div>\n"
            ],
            "application/vnd.google.colaboratory.intrinsic+json": {
              "type": "dataframe",
              "variable_name": "ratings"
            }
          },
          "metadata": {},
          "execution_count": 19
        }
      ]
    },
    {
      "cell_type": "code",
      "source": [
        "ratings.info()"
      ],
      "metadata": {
        "colab": {
          "base_uri": "https://localhost:8080/"
        },
        "id": "LH6LaIxABcfS",
        "outputId": "b8b9dda7-2763-4775-8fd3-4e0e18b8e8f7"
      },
      "execution_count": null,
      "outputs": [
        {
          "output_type": "stream",
          "name": "stdout",
          "text": [
            "<class 'pandas.core.frame.DataFrame'>\n",
            "RangeIndex: 100836 entries, 0 to 100835\n",
            "Data columns (total 4 columns):\n",
            " #   Column     Non-Null Count   Dtype  \n",
            "---  ------     --------------   -----  \n",
            " 0   userId     100836 non-null  int64  \n",
            " 1   movieId    100836 non-null  int64  \n",
            " 2   rating     100836 non-null  float64\n",
            " 3   timestamp  100836 non-null  int64  \n",
            "dtypes: float64(1), int64(3)\n",
            "memory usage: 3.1 MB\n"
          ]
        }
      ]
    },
    {
      "cell_type": "markdown",
      "source": [
        "# Разделяем на train и test"
      ],
      "metadata": {
        "id": "GhxH7SeS7q7w"
      }
    },
    {
      "cell_type": "code",
      "source": [
        "df = ratings.sort_values(\"timestamp\")\n",
        "train_ratio = 0.8\n",
        "train_size = int(len(df) * train_ratio)\n",
        "\n",
        "train_df = df.iloc[:train_size]\n",
        "test_df = df.iloc[train_size:]"
      ],
      "metadata": {
        "id": "uEmjze_PY30K"
      },
      "execution_count": null,
      "outputs": []
    },
    {
      "cell_type": "code",
      "source": [
        "reader = Reader(rating_scale=(0.5, 5))\n",
        "train_data = Dataset.load_from_df(train_df[[\"userId\", \"movieId\", \"rating\"]], reader)\n",
        "trainset = train_data.build_full_trainset()"
      ],
      "metadata": {
        "id": "BtJQ1_Om8EgF"
      },
      "execution_count": null,
      "outputs": []
    },
    {
      "cell_type": "markdown",
      "source": [
        "# Обучение userKNN"
      ],
      "metadata": {
        "id": "HeLd5UMC8i7T"
      }
    },
    {
      "cell_type": "code",
      "source": [
        "sim_options = {\"name\": \"cosine\", \"user_based\": True}\n",
        "model = KNNBasic(sim_options=sim_options)\n",
        "model.fit(trainset)"
      ],
      "metadata": {
        "colab": {
          "base_uri": "https://localhost:8080/"
        },
        "id": "yLS6ZHw58nl9",
        "outputId": "2c0f6996-d8fa-4956-83c3-2de51eaf7ca6"
      },
      "execution_count": null,
      "outputs": [
        {
          "output_type": "stream",
          "name": "stdout",
          "text": [
            "Computing the cosine similarity matrix...\n",
            "Done computing similarity matrix.\n"
          ]
        },
        {
          "output_type": "execute_result",
          "data": {
            "text/plain": [
              "<surprise.prediction_algorithms.knns.KNNBasic at 0x7ebe6f4ee4d0>"
            ]
          },
          "metadata": {},
          "execution_count": 23
        }
      ]
    },
    {
      "cell_type": "code",
      "source": [
        "test_ratings = test_df[[\"userId\", \"movieId\", \"rating\"]].itertuples(index=False, name=None)\n",
        "test_ratings = list(test_ratings)\n",
        "\n",
        "predictions = model.test(test_ratings)"
      ],
      "metadata": {
        "id": "XwWoUdyJ8tVV"
      },
      "execution_count": null,
      "outputs": []
    },
    {
      "cell_type": "markdown",
      "source": [
        "# Считаем NDCG@10"
      ],
      "metadata": {
        "id": "bMt_XYnZ9n05"
      }
    },
    {
      "cell_type": "code",
      "source": [
        "def ndcg_at_k(predictions, k=10):\n",
        "    user_recommendations = defaultdict(list)\n",
        "    user_relevances = defaultdict(list)\n",
        "\n",
        "    for uid, iid, true_r, est, _ in predictions:\n",
        "        user_recommendations[uid].append((iid, est))\n",
        "        user_relevances[uid].append(true_r)\n",
        "\n",
        "    ndcgs = []\n",
        "    for uid in user_recommendations:\n",
        "        sorted_recs = sorted(user_recommendations[uid], key=lambda x: x[1], reverse=True)[:k]\n",
        "        true_rels = user_relevances[uid]\n",
        "\n",
        "        dcg = sum(\n",
        "            true_rels[idx] / np.log2(idx + 2) for idx, (iid, est) in enumerate(sorted_recs) if true_rels[idx] > 0\n",
        "        )\n",
        "\n",
        "        sorted_true_rels = sorted(true_rels, reverse=True)[:k]\n",
        "        idcg = sum(rel / np.log2(idx + 2) for idx, rel in enumerate(sorted_true_rels))\n",
        "\n",
        "        if idcg > 0:\n",
        "            ndcgs.append(dcg / idcg)\n",
        "\n",
        "    return np.mean(ndcgs)\n",
        "\n",
        "ndcg_10 = ndcg_at_k(predictions, k=10)\n",
        "print(f\"NDCG@10: {ndcg_10:.4f}\")"
      ],
      "metadata": {
        "colab": {
          "base_uri": "https://localhost:8080/"
        },
        "id": "0MZ8-e1u9DRD",
        "outputId": "5774eedd-6fd2-4377-e940-39cd48c51119"
      },
      "execution_count": null,
      "outputs": [
        {
          "output_type": "stream",
          "name": "stdout",
          "text": [
            "NDCG@10: 0.8465\n"
          ]
        }
      ]
    },
    {
      "cell_type": "markdown",
      "source": [
        "# Создаем датасет, который идет в прод"
      ],
      "metadata": {
        "id": "H_QehlL9-NOZ"
      }
    },
    {
      "cell_type": "code",
      "source": [
        "def get_recommendations(model, trainset, k=10):\n",
        "    all_items = trainset.all_items()\n",
        "    all_items = [trainset.to_raw_iid(i) for i in all_items]\n",
        "\n",
        "    recommendations = defaultdict(list)\n",
        "    for uid in trainset.all_users():\n",
        "        user_raw_id = trainset.to_raw_uid(uid)\n",
        "        rated_items = set(trainset.ur[uid])\n",
        "        unrated_items = [iid for iid in all_items if iid not in rated_items]\n",
        "\n",
        "        preds = [(iid, model.predict(user_raw_id, iid).est) for iid in unrated_items]\n",
        "        top_k = sorted(preds, key=lambda x: x[1], reverse=True)[:k]\n",
        "        recommendations[user_raw_id] = [iid for iid, _ in top_k]\n",
        "\n",
        "    return recommendations\n",
        "\n",
        "recommendations = get_recommendations(model, trainset, k=10)\n",
        "final_dataset = pd.DataFrame({\"userid\": recommendations.keys(), \"recommendation\": recommendations.values()})\n",
        "\n",
        "print(final_dataset)"
      ],
      "metadata": {
        "id": "TIlxev-S-Tbl",
        "colab": {
          "base_uri": "https://localhost:8080/"
        },
        "outputId": "c758aefb-f000-471e-e780-cc1b6697ca54"
      },
      "execution_count": null,
      "outputs": [
        {
          "output_type": "stream",
          "name": "stdout",
          "text": [
            "     userid                                     recommendation\n",
            "0       429  [99, 581, 148, 496, 685, 1105, 1046, 1151, 53,...\n",
            "1       107  [99, 148, 496, 467, 1151, 1696, 53, 389, 3073,...\n",
            "2       191  [99, 148, 496, 626, 467, 53, 1140, 3073, 3096,...\n",
            "3        99  [99, 581, 148, 496, 685, 1105, 1151, 1696, 53,...\n",
            "4        54  [99, 148, 496, 626, 467, 1151, 1696, 53, 3073,...\n",
            "..      ...                                                ...\n",
            "517     445  [99, 148, 496, 626, 467, 1151, 53, 1140, 3073,...\n",
            "518      18  [99, 148, 496, 626, 467, 1151, 53, 1140, 3073,...\n",
            "519      10  [99, 148, 496, 685, 1105, 1151, 1696, 53, 389,...\n",
            "520     424  [148, 496, 626, 467, 53, 1140, 3073, 3096, 347...\n",
            "521     495  [99, 148, 496, 685, 1046, 467, 1151, 53, 1140,...\n",
            "\n",
            "[522 rows x 2 columns]\n"
          ]
        }
      ]
    },
    {
      "cell_type": "code",
      "source": [
        "final_dataset.to_csv(\"recommendations.csv\")"
      ],
      "metadata": {
        "id": "xL3V1INd-v7d"
      },
      "execution_count": null,
      "outputs": []
    },
    {
      "cell_type": "code",
      "source": [
        "from google.colab import files\n",
        "files.download('recommendations.csv')"
      ],
      "metadata": {
        "id": "m0hRpiC-aYeA"
      },
      "execution_count": null,
      "outputs": []
    }
  ]
}